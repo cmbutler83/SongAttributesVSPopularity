{
 "cells": [
  {
   "cell_type": "code",
   "execution_count": 1,
   "metadata": {},
   "outputs": [],
   "source": [
    "#################################################\n",
    "# Dependencies\n",
    "#################################################\n",
    "from flask import Flask, render_template\n",
    "import sqlalchemy\n",
    "from sqlalchemy.ext.automap import automap_base\n",
    "from sqlalchemy.orm import Session\n",
    "from sqlalchemy import create_engine, func"
   ]
  },
  {
   "cell_type": "code",
   "execution_count": 2,
   "metadata": {},
   "outputs": [],
   "source": [
    "#################################################\n",
    "# Flask Setup\n",
    "#################################################\n",
    "app = Flask(__name__)\n"
   ]
  },
  {
   "cell_type": "code",
   "execution_count": 4,
   "metadata": {},
   "outputs": [
    {
     "name": "stdout",
     "output_type": "stream",
     "text": [
      "['coolness', 'country_attributes', 'fiftygenre', 'song_attibutes']\n"
     ]
    },
    {
     "name": "stderr",
     "output_type": "stream",
     "text": [
      "/var/folders/n3/73dnm89n6_sch505st1wgqc80000gn/T/ipykernel_2850/3717475457.py:11: SAWarning: This declarative base already contains a class with the same class name and module name as sqlalchemy.ext.automap.coolness, and will be replaced in the string-lookup table.\n",
      "  Base.prepare(engine, reflect=True)\n",
      "/var/folders/n3/73dnm89n6_sch505st1wgqc80000gn/T/ipykernel_2850/3717475457.py:11: SAWarning: This declarative base already contains a class with the same class name and module name as sqlalchemy.ext.automap.country_attributes, and will be replaced in the string-lookup table.\n",
      "  Base.prepare(engine, reflect=True)\n",
      "/var/folders/n3/73dnm89n6_sch505st1wgqc80000gn/T/ipykernel_2850/3717475457.py:11: SAWarning: This declarative base already contains a class with the same class name and module name as sqlalchemy.ext.automap.fiftygenre, and will be replaced in the string-lookup table.\n",
      "  Base.prepare(engine, reflect=True)\n",
      "/var/folders/n3/73dnm89n6_sch505st1wgqc80000gn/T/ipykernel_2850/3717475457.py:11: SAWarning: This declarative base already contains a class with the same class name and module name as sqlalchemy.ext.automap.song_attibutes, and will be replaced in the string-lookup table.\n",
      "  Base.prepare(engine, reflect=True)\n"
     ]
    }
   ],
   "source": [
    "#################################################\n",
    "# Database Setup\n",
    "#################################################\n",
    "engine = create_engine(\"sqlite:///songs_complete_db.sqlite\")\n",
    "\n",
    "# reflect an existing database into a new model\n",
    "Base = automap_base()\n",
    "\n",
    "# reflect the tables\n",
    "Base.prepare(autoload_with=engine)\n",
    "Base.prepare(engine, reflect=True)\n",
    "print(Base.classes.keys())\n",
    "\n"
   ]
  },
  {
   "cell_type": "code",
   "execution_count": 7,
   "metadata": {},
   "outputs": [],
   "source": [
    "# Create our session (link) from Python to the DB\n",
    "session = Session(engine)\n",
    "\n",
    "#Save reference to the tables\n",
    "coolness = Base.classes.coolness\n",
    "country_attributes = Base.classes.country_attributes\n",
    "fiftygenre = Base.classes.fiftygenre\n",
    "song_attibutes = Base.classes.song_attibutes\n"
   ]
  },
  {
   "cell_type": "code",
   "execution_count": 6,
   "metadata": {},
   "outputs": [
    {
     "data": {
      "text/plain": [
       "{'_sa_instance_state': <sqlalchemy.orm.state.InstanceState at 0x7fcf46abe850>,\n",
       " 'weeks_on_chart': 19,\n",
       " 'streams': 4026918.0,\n",
       " 'rank_pts': 0.955,\n",
       " 'Popularity_Score': 0.6736666666666666,\n",
       " 'track_name': 'Hati-Hati di Jalan',\n",
       " 'rank': 9.0,\n",
       " 'artist_names': 'Tulus',\n",
       " 'WOC_ratio': 0.066,\n",
       " 'streams_ratio': 1.0}"
      ]
     },
     "execution_count": 6,
     "metadata": {},
     "output_type": "execute_result"
    }
   ],
   "source": [
    "#coolness first for reference\n",
    "first_row = session.query(coolness).first()\n",
    "first_row.__dict__\n"
   ]
  },
  {
   "cell_type": "code",
   "execution_count": 8,
   "metadata": {},
   "outputs": [
    {
     "data": {
      "text/plain": [
       "{'_sa_instance_state': <sqlalchemy.orm.state.InstanceState at 0x7fcf46a0d490>,\n",
       " 'country': 'Argentina',\n",
       " 'energy': 0.6751008213552362,\n",
       " 'speechiness': 0.13178737166324433,\n",
       " 'valence': 0.6465626488706365,\n",
       " 'duration': 206.6618069815195,\n",
       " 'loudness': -5.216302464065708,\n",
       " 'danceability': 0.7440131416837782,\n",
       " 'acousticness': 0.22990988090349077,\n",
       " 'tempo': 120.36076776180698}"
      ]
     },
     "execution_count": 8,
     "metadata": {},
     "output_type": "execute_result"
    }
   ],
   "source": [
    "#country_attributes first for reference\n",
    "first_row = session.query(country_attributes).first()\n",
    "first_row.__dict__\n"
   ]
  },
  {
   "cell_type": "code",
   "execution_count": 9,
   "metadata": {},
   "outputs": [
    {
     "data": {
      "text/plain": [
       "{'_sa_instance_state': <sqlalchemy.orm.state.InstanceState at 0x7fcf469d6190>,\n",
       " 'artist_count': 107610,\n",
       " 'artist_genre': 'pop'}"
      ]
     },
     "execution_count": 9,
     "metadata": {},
     "output_type": "execute_result"
    }
   ],
   "source": [
    "#fiftygenre first for reference\n",
    "first_row = session.query(fiftygenre).first()\n",
    "first_row.__dict__\n"
   ]
  },
  {
   "cell_type": "code",
   "execution_count": 10,
   "metadata": {},
   "outputs": [
    {
     "data": {
      "text/plain": [
       "{'_sa_instance_state': <sqlalchemy.orm.state.InstanceState at 0x7fcf469d6550>,\n",
       " 'artist_names': 'Bizarrap, Quevedo',\n",
       " 'rank_pts': 0.865,\n",
       " 'WOC_ratio': 0.014,\n",
       " 'streams': 3357665.5,\n",
       " 'weeks_on_chart': 2,\n",
       " 'energy': 0.782,\n",
       " 'speechiness': 0.044,\n",
       " 'valence': 0.55,\n",
       " 'country': 'Argentina',\n",
       " 'track_name': 'Quevedo: Bzrp Music Sessions, Vol. 52',\n",
       " 'Popularity_Score': 0.6263333333333333,\n",
       " 'streams_ratio': 1.0,\n",
       " 'rank': 27.0,\n",
       " 'danceability': 0.621,\n",
       " 'loudness': -5.548,\n",
       " 'acousticness': 0.012,\n",
       " 'tempo': 128.033,\n",
       " 'duration': 199.0}"
      ]
     },
     "execution_count": 10,
     "metadata": {},
     "output_type": "execute_result"
    }
   ],
   "source": [
    "#song_attibutes first for reference\n",
    "first_row = session.query(song_attibutes).first()\n",
    "first_row.__dict__\n"
   ]
  },
  {
   "cell_type": "code",
   "execution_count": null,
   "metadata": {},
   "outputs": [],
   "source": [
    "#################################################\n",
    "# Flask Routes\n",
    "#################################################\n",
    "@app.route('/')\n",
    "def home():\n",
    "   return render_template('index.html')\n"
   ]
  },
  {
   "cell_type": "code",
   "execution_count": null,
   "metadata": {},
   "outputs": [],
   "source": [
    "@app.route('/attributes')\n",
    "def attributes():\n"
   ]
  },
  {
   "cell_type": "code",
   "execution_count": null,
   "metadata": {},
   "outputs": [],
   "source": [
    "@app.route('/country')\n",
    "def attributes():"
   ]
  },
  {
   "cell_type": "code",
   "execution_count": null,
   "metadata": {},
   "outputs": [],
   "source": [
    "#Because I'm on a mac, I am setting the port to 8000 to avoid access errors\n",
    "if __name__ == '__main__':\n",
    "    app.run(port=8000, debug=True)"
   ]
  }
 ],
 "metadata": {
  "kernelspec": {
   "display_name": "base",
   "language": "python",
   "name": "python3"
  },
  "language_info": {
   "codemirror_mode": {
    "name": "ipython",
    "version": 3
   },
   "file_extension": ".py",
   "mimetype": "text/x-python",
   "name": "python",
   "nbconvert_exporter": "python",
   "pygments_lexer": "ipython3",
   "version": "3.9.12"
  },
  "orig_nbformat": 4,
  "vscode": {
   "interpreter": {
    "hash": "f9cb815b88f452d6371433a689dad1c4455ab1127db4ab270e9b7c850f9a9b48"
   }
  }
 },
 "nbformat": 4,
 "nbformat_minor": 2
}
