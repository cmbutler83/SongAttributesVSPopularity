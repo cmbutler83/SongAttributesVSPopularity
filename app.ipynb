{
 "cells": [
  {
   "cell_type": "code",
   "execution_count": null,
   "metadata": {},
   "outputs": [],
   "source": [
    "#################################################\n",
    "# Dependencies\n",
    "#################################################\n",
    "from flask import Flask, render_template\n",
    "import sqlalchemy\n",
    "from sqlalchemy.ext.automap import automap_base\n",
    "from sqlalchemy.orm import Session\n",
    "from sqlalchemy import create_engine, func"
   ]
  },
  {
   "cell_type": "code",
   "execution_count": null,
   "metadata": {},
   "outputs": [],
   "source": [
    "#################################################\n",
    "# Flask Setup\n",
    "#################################################\n",
    "app = Flask(__name__)\n"
   ]
  },
  {
   "cell_type": "code",
   "execution_count": null,
   "metadata": {},
   "outputs": [],
   "source": [
    "#################################################\n",
    "# Database Setup\n",
    "#################################################\n",
    "engine = create_engine(\"sqlite:///songs_complete_db.sqlite\")\n",
    "\n",
    "# reflect an existing database into a new model\n",
    "Base = automap_base()\n",
    "\n",
    "# reflect the tables\n",
    "Base.prepare(autoload_with=engine)\n",
    "Base.prepare(engine, reflect=True)\n",
    "print(Base.classes.keys())\n",
    "\n"
   ]
  },
  {
   "cell_type": "code",
   "execution_count": null,
   "metadata": {},
   "outputs": [],
   "source": [
    "# Create our session (link) from Python to the DB\n",
    "session = Session(engine)\n",
    "\n",
    "#Save reference to the tables\n",
    "coolness = Base.classes.coolness\n",
    "country_attributes = Base.classes.country_attributes\n",
    "fiftygenre = Base.classes.fiftygenre\n",
    "top_50_by_country = Base.classes.top_50_by_country\n"
   ]
  },
  {
   "cell_type": "code",
   "execution_count": null,
   "metadata": {},
   "outputs": [],
   "source": [
    "#coolness first for reference\n",
    "first_row = session.query(coolness).first()\n",
    "first_row.__dict__\n"
   ]
  },
  {
   "cell_type": "code",
   "execution_count": null,
   "metadata": {},
   "outputs": [],
   "source": [
    "#country_attributes first for reference\n",
    "first_row = session.query(country_attributes).first()\n",
    "first_row.__dict__\n"
   ]
  },
  {
   "cell_type": "code",
   "execution_count": null,
   "metadata": {},
   "outputs": [],
   "source": [
    "#fiftygenre first for reference\n",
    "first_row = session.query(fiftygenre).first()\n",
    "first_row.__dict__\n"
   ]
  },
  {
   "cell_type": "code",
   "execution_count": null,
   "metadata": {},
   "outputs": [],
   "source": [
    "#song_attibutes first for reference\n",
    "first_row = session.query(top_50_by_country).first()\n",
    "first_row.__dict__\n"
   ]
  },
  {
   "cell_type": "code",
   "execution_count": null,
   "metadata": {},
   "outputs": [],
   "source": [
    "#################################################\n",
    "# Flask Routes\n",
    "#################################################\n",
    "@app.route('/')\n",
    "def home():\n",
    "   return render_template('map.html')\n",
    "\n"
   ]
  },
  {
   "cell_type": "code",
   "execution_count": null,
   "metadata": {},
   "outputs": [],
   "source": [
    "@app.route('/attributes/<attribute>')\n",
    "def getAttribute(attribute):\n",
    "    # Create our session (link) from Python to the DB, songs_complete_db.sqlite\n",
    "    session = Session(engine)\n",
    "    \n",
    "    #use the attribute selected by the user; average the values of that attribute for each country\n",
    "    attribute_query = engine.execute('SELECT country, AVG(?) \\\n",
    "                                      FROM top_50_by_country \\\n",
    "                                      GROUP BY country', attribute).fetchall()\n",
    "    \n",
    "    attribute_dict = {}\n",
    "    for country, attribute in attribute_query:\n",
    "      attribute_dict['country'] = country\n",
    "      attribute_dict['attribute'] = attribute\n",
    "\n",
    "    return(attribute_dict)\n",
    "      \n",
    "\n",
    "\n",
    "   # return object should look like this:\n",
    "   # { \"country\": country,\n",
    "   #   \"value\": value }"
   ]
  },
  {
   "cell_type": "code",
   "execution_count": null,
   "metadata": {},
   "outputs": [],
   "source": [
    "@app.route('/country')\n",
    "def attributes():\n",
    "    # Create our session (link) from Python to the DB, songs_complete_db.sqlite\n",
    "    session = Session(engine)"
   ]
  },
  {
   "cell_type": "code",
   "execution_count": null,
   "metadata": {},
   "outputs": [],
   "source": [
    "#Because I'm on a mac, I am setting the port to 8000 to avoid access errors\n",
    "if __name__ == '__main__':\n",
    "    app.run(port=8000, debug=True)"
   ]
  }
 ],
 "metadata": {
  "kernelspec": {
   "display_name": "base",
   "language": "python",
   "name": "python3"
  },
  "language_info": {
   "codemirror_mode": {
    "name": "ipython",
    "version": 3
   },
   "file_extension": ".py",
   "mimetype": "text/x-python",
   "name": "python",
   "nbconvert_exporter": "python",
   "pygments_lexer": "ipython3",
   "version": "3.9.12"
  },
  "orig_nbformat": 4,
  "vscode": {
   "interpreter": {
    "hash": "f9cb815b88f452d6371433a689dad1c4455ab1127db4ab270e9b7c850f9a9b48"
   }
  }
 },
 "nbformat": 4,
 "nbformat_minor": 2
}
