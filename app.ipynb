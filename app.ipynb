{
 "cells": [
  {
   "cell_type": "code",
   "execution_count": 1,
   "metadata": {},
   "outputs": [],
   "source": [
    "#################################################\n",
    "# Dependencies\n",
    "#################################################\n",
    "from flask import Flask, render_template\n",
    "import sqlalchemy\n",
    "from sqlalchemy.ext.automap import automap_base\n",
    "from sqlalchemy.orm import Session\n",
    "from sqlalchemy import create_engine, func"
   ]
  },
  {
   "cell_type": "code",
   "execution_count": 2,
   "metadata": {},
   "outputs": [],
   "source": [
    "#################################################\n",
    "# Flask Setup\n",
    "#################################################\n",
    "app = Flask(__name__)\n"
   ]
  },
  {
   "cell_type": "code",
   "execution_count": 3,
   "metadata": {},
   "outputs": [
    {
     "name": "stdout",
     "output_type": "stream",
     "text": [
      "['coolness', 'country_attributes', 'fiftygenre', 'top_50_by_country']\n"
     ]
    },
    {
     "name": "stderr",
     "output_type": "stream",
     "text": [
      "/var/folders/n3/73dnm89n6_sch505st1wgqc80000gn/T/ipykernel_8186/3717475457.py:11: SAWarning: This declarative base already contains a class with the same class name and module name as sqlalchemy.ext.automap.coolness, and will be replaced in the string-lookup table.\n",
      "  Base.prepare(engine, reflect=True)\n",
      "/var/folders/n3/73dnm89n6_sch505st1wgqc80000gn/T/ipykernel_8186/3717475457.py:11: SAWarning: This declarative base already contains a class with the same class name and module name as sqlalchemy.ext.automap.country_attributes, and will be replaced in the string-lookup table.\n",
      "  Base.prepare(engine, reflect=True)\n",
      "/var/folders/n3/73dnm89n6_sch505st1wgqc80000gn/T/ipykernel_8186/3717475457.py:11: SAWarning: This declarative base already contains a class with the same class name and module name as sqlalchemy.ext.automap.fiftygenre, and will be replaced in the string-lookup table.\n",
      "  Base.prepare(engine, reflect=True)\n",
      "/var/folders/n3/73dnm89n6_sch505st1wgqc80000gn/T/ipykernel_8186/3717475457.py:11: SAWarning: This declarative base already contains a class with the same class name and module name as sqlalchemy.ext.automap.top_50_by_country, and will be replaced in the string-lookup table.\n",
      "  Base.prepare(engine, reflect=True)\n"
     ]
    }
   ],
   "source": [
    "#################################################\n",
    "# Database Setup\n",
    "#################################################\n",
    "engine = create_engine(\"sqlite:///songs_complete_db.sqlite\")\n",
    "\n",
    "# reflect an existing database into a new model\n",
    "Base = automap_base()\n",
    "\n",
    "# reflect the tables\n",
    "Base.prepare(autoload_with=engine)\n",
    "Base.prepare(engine, reflect=True)\n",
    "print(Base.classes.keys())\n",
    "\n"
   ]
  },
  {
   "cell_type": "code",
   "execution_count": 5,
   "metadata": {},
   "outputs": [],
   "source": [
    "# Create our session (link) from Python to the DB\n",
    "session = Session(engine)\n",
    "\n",
    "#Save reference to the tables\n",
    "coolness = Base.classes.coolness\n",
    "country_attributes = Base.classes.country_attributes\n",
    "fiftygenre = Base.classes.fiftygenre\n",
    "top_50_by_country = Base.classes.top_50_by_country\n"
   ]
  },
  {
   "cell_type": "code",
   "execution_count": 6,
   "metadata": {},
   "outputs": [
    {
     "data": {
      "text/plain": [
       "{'_sa_instance_state': <sqlalchemy.orm.state.InstanceState at 0x7f8f7ba52f70>,\n",
       " 'weeks_on_chart': 19,\n",
       " 'streams': 4026918.0,\n",
       " 'rank_pts': 0.955,\n",
       " 'Popularity_Score': 0.6736666666666666,\n",
       " 'track_name': 'Hati-Hati di Jalan',\n",
       " 'rank': 9.0,\n",
       " 'artist_names': 'Tulus',\n",
       " 'WOC_ratio': 0.066,\n",
       " 'streams_ratio': 1.0}"
      ]
     },
     "execution_count": 6,
     "metadata": {},
     "output_type": "execute_result"
    }
   ],
   "source": [
    "#coolness first for reference\n",
    "first_row = session.query(coolness).first()\n",
    "first_row.__dict__\n"
   ]
  },
  {
   "cell_type": "code",
   "execution_count": 7,
   "metadata": {},
   "outputs": [
    {
     "data": {
      "text/plain": [
       "{'_sa_instance_state': <sqlalchemy.orm.state.InstanceState at 0x7f8f7a9b73d0>,\n",
       " 'speechiness': 0.13178737166324433,\n",
       " 'country': 'Argentina',\n",
       " 'energy': 0.6751008213552362,\n",
       " 'valence': 0.6465626488706365,\n",
       " 'duration': 206.6618069815195,\n",
       " 'danceability': 0.7440131416837782,\n",
       " 'loudness': -5.216302464065708,\n",
       " 'acousticness': 0.22990988090349077,\n",
       " 'tempo': 120.36076776180698}"
      ]
     },
     "execution_count": 7,
     "metadata": {},
     "output_type": "execute_result"
    }
   ],
   "source": [
    "#country_attributes first for reference\n",
    "first_row = session.query(country_attributes).first()\n",
    "first_row.__dict__\n"
   ]
  },
  {
   "cell_type": "code",
   "execution_count": 8,
   "metadata": {},
   "outputs": [
    {
     "data": {
      "text/plain": [
       "{'_sa_instance_state': <sqlalchemy.orm.state.InstanceState at 0x7f8f7a9b7e50>,\n",
       " 'artist_count': 107610,\n",
       " 'artist_genre': 'pop'}"
      ]
     },
     "execution_count": 8,
     "metadata": {},
     "output_type": "execute_result"
    }
   ],
   "source": [
    "#fiftygenre first for reference\n",
    "first_row = session.query(fiftygenre).first()\n",
    "first_row.__dict__\n"
   ]
  },
  {
   "cell_type": "code",
   "execution_count": 9,
   "metadata": {},
   "outputs": [
    {
     "data": {
      "text/plain": [
       "{'_sa_instance_state': <sqlalchemy.orm.state.InstanceState at 0x7f8f7bac0dc0>,\n",
       " 'rank_pts': 0.865,\n",
       " 'artist_names': 'Bizarrap, Quevedo',\n",
       " 'WOC_ratio': 0.014,\n",
       " 'streams': 3357665.5,\n",
       " 'weeks_on_chart': 2,\n",
       " 'energy': 0.782,\n",
       " 'speechiness': 0.044,\n",
       " 'valence': 0.55,\n",
       " 'duration': 199.0,\n",
       " 'track_name': 'Quevedo: Bzrp Music Sessions, Vol. 52',\n",
       " 'Popularity_Score': 0.6263333333333333,\n",
       " 'streams_ratio': 1.0,\n",
       " 'rank': 27.0,\n",
       " 'danceability': 0.621,\n",
       " 'loudness': -5.548,\n",
       " 'acousticness': 0.012,\n",
       " 'tempo': 128.033,\n",
       " 'country': 'Argentina'}"
      ]
     },
     "execution_count": 9,
     "metadata": {},
     "output_type": "execute_result"
    }
   ],
   "source": [
    "#song_attibutes first for reference\n",
    "first_row = session.query(top_50_by_country).first()\n",
    "first_row.__dict__\n"
   ]
  },
  {
   "cell_type": "code",
   "execution_count": 10,
   "metadata": {},
   "outputs": [],
   "source": [
    "#################################################\n",
    "# Flask Routes\n",
    "#################################################\n",
    "@app.route('/')\n",
    "def home():\n",
    "   return render_template('index.html')\n",
    "\n"
   ]
  },
  {
   "cell_type": "code",
   "execution_count": 15,
   "metadata": {},
   "outputs": [
    {
     "ename": "AssertionError",
     "evalue": "View function mapping is overwriting an existing endpoint function: getAttribute",
     "output_type": "error",
     "traceback": [
      "\u001b[0;31m---------------------------------------------------------------------------\u001b[0m",
      "\u001b[0;31mAssertionError\u001b[0m                            Traceback (most recent call last)",
      "\u001b[1;32m/Users/christindavis/Desktop/BootCamp/SongAttributesVSPopularity/app.ipynb Cell 10\u001b[0m in \u001b[0;36m<cell line: 1>\u001b[0;34m()\u001b[0m\n\u001b[1;32m      <a href='vscode-notebook-cell:/Users/christindavis/Desktop/BootCamp/SongAttributesVSPopularity/app.ipynb#X12sZmlsZQ%3D%3D?line=0'>1</a>\u001b[0m \u001b[39m@app\u001b[39;49m\u001b[39m.\u001b[39;49mroute(\u001b[39m'\u001b[39;49m\u001b[39m/attributes/tempo\u001b[39;49m\u001b[39m'\u001b[39;49m)\n\u001b[0;32m----> <a href='vscode-notebook-cell:/Users/christindavis/Desktop/BootCamp/SongAttributesVSPopularity/app.ipynb#X12sZmlsZQ%3D%3D?line=1'>2</a>\u001b[0m \u001b[39mdef\u001b[39;49;00m \u001b[39mgetAttribute\u001b[39;49m(attribute):\n\u001b[1;32m      <a href='vscode-notebook-cell:/Users/christindavis/Desktop/BootCamp/SongAttributesVSPopularity/app.ipynb#X12sZmlsZQ%3D%3D?line=2'>3</a>\u001b[0m     \u001b[39m# Create our session (link) from Python to the DB, songs_complete_db.sqlite\u001b[39;49;00m\n\u001b[1;32m      <a href='vscode-notebook-cell:/Users/christindavis/Desktop/BootCamp/SongAttributesVSPopularity/app.ipynb#X12sZmlsZQ%3D%3D?line=3'>4</a>\u001b[0m     session \u001b[39m=\u001b[39;49m Session(engine)\n\u001b[1;32m      <a href='vscode-notebook-cell:/Users/christindavis/Desktop/BootCamp/SongAttributesVSPopularity/app.ipynb#X12sZmlsZQ%3D%3D?line=5'>6</a>\u001b[0m     \u001b[39m#use the attribute selected by the user; average the values of that attribute for each country\u001b[39;49;00m\n",
      "File \u001b[0;32m~/opt/anaconda3/lib/python3.9/site-packages/flask/app.py:1315\u001b[0m, in \u001b[0;36mFlask.route.<locals>.decorator\u001b[0;34m(f)\u001b[0m\n\u001b[1;32m   1313\u001b[0m \u001b[39mdef\u001b[39;00m \u001b[39mdecorator\u001b[39m(f):\n\u001b[1;32m   1314\u001b[0m     endpoint \u001b[39m=\u001b[39m options\u001b[39m.\u001b[39mpop(\u001b[39m\"\u001b[39m\u001b[39mendpoint\u001b[39m\u001b[39m\"\u001b[39m, \u001b[39mNone\u001b[39;00m)\n\u001b[0;32m-> 1315\u001b[0m     \u001b[39mself\u001b[39;49m\u001b[39m.\u001b[39;49madd_url_rule(rule, endpoint, f, \u001b[39m*\u001b[39;49m\u001b[39m*\u001b[39;49moptions)\n\u001b[1;32m   1316\u001b[0m     \u001b[39mreturn\u001b[39;00m f\n",
      "File \u001b[0;32m~/opt/anaconda3/lib/python3.9/site-packages/flask/app.py:98\u001b[0m, in \u001b[0;36msetupmethod.<locals>.wrapper_func\u001b[0;34m(self, *args, **kwargs)\u001b[0m\n\u001b[1;32m     88\u001b[0m \u001b[39mif\u001b[39;00m \u001b[39mself\u001b[39m\u001b[39m.\u001b[39mdebug \u001b[39mand\u001b[39;00m \u001b[39mself\u001b[39m\u001b[39m.\u001b[39m_got_first_request:\n\u001b[1;32m     89\u001b[0m     \u001b[39mraise\u001b[39;00m \u001b[39mAssertionError\u001b[39;00m(\n\u001b[1;32m     90\u001b[0m         \u001b[39m\"\u001b[39m\u001b[39mA setup function was called after the \u001b[39m\u001b[39m\"\u001b[39m\n\u001b[1;32m     91\u001b[0m         \u001b[39m\"\u001b[39m\u001b[39mfirst request was handled.  This usually indicates a bug \u001b[39m\u001b[39m\"\u001b[39m\n\u001b[0;32m   (...)\u001b[0m\n\u001b[1;32m     96\u001b[0m         \u001b[39m\"\u001b[39m\u001b[39mbefore the application starts serving requests.\u001b[39m\u001b[39m\"\u001b[39m\n\u001b[1;32m     97\u001b[0m     )\n\u001b[0;32m---> 98\u001b[0m \u001b[39mreturn\u001b[39;00m f(\u001b[39mself\u001b[39;49m, \u001b[39m*\u001b[39;49margs, \u001b[39m*\u001b[39;49m\u001b[39m*\u001b[39;49mkwargs)\n",
      "File \u001b[0;32m~/opt/anaconda3/lib/python3.9/site-packages/flask/app.py:1282\u001b[0m, in \u001b[0;36mFlask.add_url_rule\u001b[0;34m(self, rule, endpoint, view_func, provide_automatic_options, **options)\u001b[0m\n\u001b[1;32m   1280\u001b[0m old_func \u001b[39m=\u001b[39m \u001b[39mself\u001b[39m\u001b[39m.\u001b[39mview_functions\u001b[39m.\u001b[39mget(endpoint)\n\u001b[1;32m   1281\u001b[0m \u001b[39mif\u001b[39;00m old_func \u001b[39mis\u001b[39;00m \u001b[39mnot\u001b[39;00m \u001b[39mNone\u001b[39;00m \u001b[39mand\u001b[39;00m old_func \u001b[39m!=\u001b[39m view_func:\n\u001b[0;32m-> 1282\u001b[0m     \u001b[39mraise\u001b[39;00m \u001b[39mAssertionError\u001b[39;00m(\n\u001b[1;32m   1283\u001b[0m         \u001b[39m\"\u001b[39m\u001b[39mView function mapping is overwriting an \u001b[39m\u001b[39m\"\u001b[39m\n\u001b[1;32m   1284\u001b[0m         \u001b[39m\"\u001b[39m\u001b[39mexisting endpoint function: \u001b[39m\u001b[39m%s\u001b[39;00m\u001b[39m\"\u001b[39m \u001b[39m%\u001b[39m endpoint\n\u001b[1;32m   1285\u001b[0m     )\n\u001b[1;32m   1286\u001b[0m \u001b[39mself\u001b[39m\u001b[39m.\u001b[39mview_functions[endpoint] \u001b[39m=\u001b[39m view_func\n",
      "\u001b[0;31mAssertionError\u001b[0m: View function mapping is overwriting an existing endpoint function: getAttribute"
     ]
    }
   ],
   "source": [
    "@app.route('/attributes/<attribute>')\n",
    "def getAttribute(attribute):\n",
    "    # Create our session (link) from Python to the DB, songs_complete_db.sqlite\n",
    "    session = Session(engine)\n",
    "    \n",
    "    #use the attribute selected by the user; average the values of that attribute for each country\n",
    "    attribute_query = engine.execute('SELECT country, AVG(?) \\\n",
    "                                      FROM top_50_by_country \\\n",
    "                                      GROUP BY country', attribute).fetchall()\n",
    "    \n",
    "    attribute_dict = {}\n",
    "    for country, attribute in attribute_query:\n",
    "      attribute_dict['country'] = country\n",
    "      attribute_dict['attribute'] = attribute\n",
    "\n",
    "    return(attribute_dict)\n",
    "      \n",
    "\n",
    "\n",
    "   # return object should look like this:\n",
    "   # { \"country\": country,\n",
    "   #   \"value\": value }"
   ]
  },
  {
   "cell_type": "code",
   "execution_count": null,
   "metadata": {},
   "outputs": [],
   "source": [
    "@app.route('/country')\n",
    "def attributes():\n",
    "    # Create our session (link) from Python to the DB, songs_complete_db.sqlite\n",
    "    session = Session(engine)"
   ]
  },
  {
   "cell_type": "code",
   "execution_count": null,
   "metadata": {},
   "outputs": [],
   "source": [
    "#Because I'm on a mac, I am setting the port to 8000 to avoid access errors\n",
    "if __name__ == '__main__':\n",
    "    app.run(port=8000, debug=True)"
   ]
  }
 ],
 "metadata": {
  "kernelspec": {
   "display_name": "base",
   "language": "python",
   "name": "python3"
  },
  "language_info": {
   "codemirror_mode": {
    "name": "ipython",
    "version": 3
   },
   "file_extension": ".py",
   "mimetype": "text/x-python",
   "name": "python",
   "nbconvert_exporter": "python",
   "pygments_lexer": "ipython3",
   "version": "3.9.12"
  },
  "orig_nbformat": 4,
  "vscode": {
   "interpreter": {
    "hash": "f9cb815b88f452d6371433a689dad1c4455ab1127db4ab270e9b7c850f9a9b48"
   }
  }
 },
 "nbformat": 4,
 "nbformat_minor": 2
}
